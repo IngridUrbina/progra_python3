{
  "metadata": {
    "language_info": {
      "codemirror_mode": {
        "name": "python",
        "version": 3
      },
      "file_extension": ".py",
      "mimetype": "text/x-python",
      "name": "python",
      "nbconvert_exporter": "python",
      "pygments_lexer": "ipython3",
      "version": "3.8"
    },
    "kernelspec": {
      "name": "python",
      "display_name": "Python (Pyodide)",
      "language": "python"
    }
  },
  "nbformat_minor": 4,
  "nbformat": 4,
  "cells": [
    {
      "cell_type": "code",
      "source": "class Persona:\n    def __init__(self, nombre, edad):\n        self.nombre = nombre\n        self.edad = edad\n\n    @property\n    def es_mayor_de_edad(self):\n        return self.edad >= 18\n\n    def imprimir_informacion(self):\n        print(f\"Nombre: {self.nombre}\")\n        print(f\"Edad: {self.edad}\")\n        print(f\"¿Es mayor de edad?: {'Sí' if self.es_mayor_de_edad else 'No'}\")\n\n\n# Demostración de uso\n# Crear una instancia de la clase Persona\npersona1 = Persona(\"Juan\", 25)\n\n# Acceder a atributos y propiedades\nprint(f\"Nombre: {persona1.nombre}\")\nprint(f\"Edad: {persona1.edad}\")\nprint(f\"¿Es mayor de edad?: {persona1.es_mayor_de_edad}\")\n\n# Llamar a un método\npersona1.imprimir_informacion()\n\n#la clase Persona encapsula datos y comportamientos relacionados con una persona, permitiendo la creación de\n#instancias individuales con diferentes nombres y edades, y proporcionando métodos para obtener información sobre \n#esas instancias.\n\n",
      "metadata": {
        "trusted": true
      },
      "execution_count": 1,
      "outputs": [
        {
          "name": "stdout",
          "text": "Nombre: Juan\nEdad: 25\n¿Es mayor de edad?: True\nNombre: Juan\nEdad: 25\n¿Es mayor de edad?: Sí\n",
          "output_type": "stream"
        }
      ]
    },
    {
      "cell_type": "code",
      "source": "",
      "metadata": {},
      "execution_count": null,
      "outputs": []
    }
  ]
}