{
  "metadata": {
    "language_info": {
      "codemirror_mode": {
        "name": "python",
        "version": 3
      },
      "file_extension": ".py",
      "mimetype": "text/x-python",
      "name": "python",
      "nbconvert_exporter": "python",
      "pygments_lexer": "ipython3",
      "version": "3.8"
    },
    "kernelspec": {
      "name": "python",
      "display_name": "Python (Pyodide)",
      "language": "python"
    }
  },
  "nbformat_minor": 4,
  "nbformat": 4,
  "cells": [
    {
      "cell_type": "code",
      "source": "\nimport pickle\n\n# Clase de ejemplo para serializar\nclass Persona:\n    def __init__(self, nombre, edad):\n        self.nombre = nombre\n        self.edad = edad\n\n# Función para serializar y guardar en un archivo\ndef serializar_y_guardar(objeto, nombre_archivo):\n    with open(nombre_archivo, 'wb') as archivo:\n        pickle.dump(objeto, archivo)\n    print(f'Objeto serializado y guardado en {nombre_archivo}')\n\n# Función para recuperar y deserializar desde un archivo\ndef recuperar_y_deserializar(nombre_archivo):\n    with open(nombre_archivo, 'rb') as archivo:\n        objeto_recuperado = pickle.load(archivo)\n    print(f'Objeto recuperado: {objeto_recuperado.nombre}, {objeto_recuperado.edad}')\n    return objeto_recuperado\n\n# Objeto de ejemplo\npersona_original = Persona(nombre='Juan', edad=30)\n\n# Serializar y guardar en un archivo\nserializar_y_guardar(persona_original, 'persona.pickle')\n\n# Recuperar y deserializar desde el archivo\npersona_recuperada = recuperar_y_deserializar('persona.pickle')\n\n",
      "metadata": {
        "trusted": true
      },
      "execution_count": 2,
      "outputs": [
        {
          "name": "stdout",
          "text": "Objeto serializado y guardado en persona.pickle\nObjeto recuperado: Juan, 30\n",
          "output_type": "stream"
        }
      ]
    },
    {
      "cell_type": "code",
      "source": "",
      "metadata": {},
      "execution_count": null,
      "outputs": []
    }
  ]
}